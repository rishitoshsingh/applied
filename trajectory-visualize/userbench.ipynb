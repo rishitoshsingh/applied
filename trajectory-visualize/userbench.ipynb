{
 "cells": [
  {
   "cell_type": "markdown",
   "id": "5ffed606",
   "metadata": {},
   "source": [
    "# 22_multiturn"
   ]
  },
  {
   "cell_type": "code",
   "execution_count": 19,
   "id": "d8bb70ef",
   "metadata": {},
   "outputs": [
    {
     "data": {
      "application/vnd.microsoft.datawrangler.viewer.v0+json": {
       "columns": [
        {
         "name": "index",
         "rawType": "int64",
         "type": "integer"
        },
        {
         "name": "data_source",
         "rawType": "object",
         "type": "string"
        },
        {
         "name": "prompt",
         "rawType": "object",
         "type": "unknown"
        },
        {
         "name": "ability",
         "rawType": "object",
         "type": "string"
        },
        {
         "name": "reward_model",
         "rawType": "object",
         "type": "unknown"
        },
        {
         "name": "extra_info",
         "rawType": "object",
         "type": "unknown"
        }
       ],
       "ref": "200483d7-965f-4836-bef2-b4f830e0ace4",
       "rows": [
        [
         "0",
         "interact_travelgym",
         "[{'content': \"You are an agent that actively interact with an specific environment. The followings are the details of the environment and your action space.\\n\\n- Environment Description: TravelGym is an environment where you interact with both a user and a search database to fulfill a travel plan. Since the user's initial intent may be incomplete, you must proactively elicit preferences, perform searches, and make informed recommendations.\\n\\n- Action Space: You should invocate the function `interact_with_env` to interact with the environment. The action should be one of the following: `search`, `action` or `answer`.\\n\\n- Action Description:\\n  * `search`: If you choose `search`, you must issue a clear and detailed query to the database. Specify the travel aspect you are searching for (e.g., hotel, flight, etc.) and provide well-supported arguments for your query. Only make one focused search attempt at a time.\\n  * `action`: If you choose `action`, you will communicate directly with the user. Your goal is to understand the user's preferences and intent by asking clear, specific questions. Avoid vague or overly general inquiries—focus on detailed aspects of their travel needs.\\n  * `answer`: If you choose answer, you should recommend a specific option to the user by only providing its an option ID from the database in the content field, clearly tied to a particular travel aspect.\\n\\n- Important Notes:\\n  * In each round of your interaction, you should analyze and carefully consider what to do next, and then invocate the `interact_with_env` tool to interact with the environment. You should provide your thought in each step when invocate the tool.\\n  * The total number of rounds that you can interact with the environment is limited. You should smartly balance the number of rounds that you search, take action, or provide answer.\\n  * Typically, you should start by performing a search, then take action to actively uncover the user's preferences or reason to provide an answer. Keep in mind that multiple travel aspects require answers, and while you may answer multiple times, each answer should include only one option ID.\\n  * For each travel aspect, the user may have multiple preferences. What you ask may not directly align with the user's actual preferences, so you must proactively uncover them. Moreover, user preferences are often expressed implicitly, requiring careful interpretation.\\n  * Be bold, creative and smart in your interaction with the environment! Let's begin!\", 'role': 'system'}\n {'content': 'I am planning a trip from New York to San Francisco with a one-way flight on April 10th, and I will stay in a hotel in San Francisco from April 10th to April 15th.\\nAlso my budget is limited so as long as my preferences are satisfied, I would also like to choose the cheapest option for each.\\n', 'role': 'user'}]",
         "interaction",
         "{'env_name': 'TravelGym', 'ground_truth': \"['H11', 'F3']\", 'id': 'flight:2-37|hotel:2-9', 'style': 'rule'}",
         "{'index': 0, 'need_tools_kwargs': True, 'split': 'train', 'tools_kwargs': {'interact_with_env': {'create_kwargs': {'env_name': 'TravelGym', 'id': 'flight:2-37|hotel:2-9'}}}}"
        ],
        [
         "1",
         "interact_travelgym",
         "[{'content': \"You are an agent that actively interact with an specific environment. The followings are the details of the environment and your action space.\\n\\n- Environment Description: TravelGym is an environment where you interact with both a user and a search database to fulfill a travel plan. Since the user's initial intent may be incomplete, you must proactively elicit preferences, perform searches, and make informed recommendations.\\n\\n- Action Space: You should invocate the function `interact_with_env` to interact with the environment. The action should be one of the following: `search`, `action` or `answer`.\\n\\n- Action Description:\\n  * `search`: If you choose `search`, you must issue a clear and detailed query to the database. Specify the travel aspect you are searching for (e.g., hotel, flight, etc.) and provide well-supported arguments for your query. Only make one focused search attempt at a time.\\n  * `action`: If you choose `action`, you will communicate directly with the user. Your goal is to understand the user's preferences and intent by asking clear, specific questions. Avoid vague or overly general inquiries—focus on detailed aspects of their travel needs.\\n  * `answer`: If you choose answer, you should recommend a specific option to the user by only providing its an option ID from the database in the content field, clearly tied to a particular travel aspect.\\n\\n- Important Notes:\\n  * In each round of your interaction, you should analyze and carefully consider what to do next, and then invocate the `interact_with_env` tool to interact with the environment. You should provide your thought in each step when invocate the tool.\\n  * The total number of rounds that you can interact with the environment is limited. You should smartly balance the number of rounds that you search, take action, or provide answer.\\n  * Typically, you should start by performing a search, then take action to actively uncover the user's preferences or reason to provide an answer. Keep in mind that multiple travel aspects require answers, and while you may answer multiple times, each answer should include only one option ID.\\n  * For each travel aspect, the user may have multiple preferences. What you ask may not directly align with the user's actual preferences, so you must proactively uncover them. Moreover, user preferences are often expressed implicitly, requiring careful interpretation.\\n  * Be bold, creative and smart in your interaction with the environment! Let's begin!\", 'role': 'system'}\n {'content': 'I am planning a trip to San Francisco from April 10th to April 20th, staying in an apartment and renting a car for the duration of my stay.\\nAlso my budget is limited so as long as my preferences are satisfied, I would also like to choose the cheapest option for each.\\n', 'role': 'user'}]",
         "interaction",
         "{'env_name': 'TravelGym', 'ground_truth': \"['C14', 'A17']\", 'id': 'apartment:2-39|rental_car:2-24', 'style': 'rule'}",
         "{'index': 1, 'need_tools_kwargs': True, 'split': 'train', 'tools_kwargs': {'interact_with_env': {'create_kwargs': {'env_name': 'TravelGym', 'id': 'apartment:2-39|rental_car:2-24'}}}}"
        ],
        [
         "2",
         "interact_travelgym",
         "[{'content': \"You are an agent that actively interact with an specific environment. The followings are the details of the environment and your action space.\\n\\n- Environment Description: TravelGym is an environment where you interact with both a user and a search database to fulfill a travel plan. Since the user's initial intent may be incomplete, you must proactively elicit preferences, perform searches, and make informed recommendations.\\n\\n- Action Space: You should invocate the function `interact_with_env` to interact with the environment. The action should be one of the following: `search`, `action` or `answer`.\\n\\n- Action Description:\\n  * `search`: If you choose `search`, you must issue a clear and detailed query to the database. Specify the travel aspect you are searching for (e.g., hotel, flight, etc.) and provide well-supported arguments for your query. Only make one focused search attempt at a time.\\n  * `action`: If you choose `action`, you will communicate directly with the user. Your goal is to understand the user's preferences and intent by asking clear, specific questions. Avoid vague or overly general inquiries—focus on detailed aspects of their travel needs.\\n  * `answer`: If you choose answer, you should recommend a specific option to the user by only providing its an option ID from the database in the content field, clearly tied to a particular travel aspect.\\n\\n- Important Notes:\\n  * In each round of your interaction, you should analyze and carefully consider what to do next, and then invocate the `interact_with_env` tool to interact with the environment. You should provide your thought in each step when invocate the tool.\\n  * The total number of rounds that you can interact with the environment is limited. You should smartly balance the number of rounds that you search, take action, or provide answer.\\n  * Typically, you should start by performing a search, then take action to actively uncover the user's preferences or reason to provide an answer. Keep in mind that multiple travel aspects require answers, and while you may answer multiple times, each answer should include only one option ID.\\n  * For each travel aspect, the user may have multiple preferences. What you ask may not directly align with the user's actual preferences, so you must proactively uncover them. Moreover, user preferences are often expressed implicitly, requiring careful interpretation.\\n  * Be bold, creative and smart in your interaction with the environment! Let's begin!\", 'role': 'system'}\n {'content': 'I am planning a trip to Florence, Italy, staying in a hotel from April 15th to April 20th, and I will dine at a restaurant in the city on April 17th.\\nAlso my budget is limited so as long as my preferences are satisfied, I would also like to choose the cheapest option for each.\\n', 'role': 'user'}]",
         "interaction",
         "{'env_name': 'TravelGym', 'ground_truth': \"['H17', 'R9']\", 'id': 'hotel:2-11|restaurant:2-8', 'style': 'rule'}",
         "{'index': 2, 'need_tools_kwargs': True, 'split': 'train', 'tools_kwargs': {'interact_with_env': {'create_kwargs': {'env_name': 'TravelGym', 'id': 'hotel:2-11|restaurant:2-8'}}}}"
        ],
        [
         "3",
         "interact_travelgym",
         "[{'content': \"You are an agent that actively interact with an specific environment. The followings are the details of the environment and your action space.\\n\\n- Environment Description: TravelGym is an environment where you interact with both a user and a search database to fulfill a travel plan. Since the user's initial intent may be incomplete, you must proactively elicit preferences, perform searches, and make informed recommendations.\\n\\n- Action Space: You should invocate the function `interact_with_env` to interact with the environment. The action should be one of the following: `search`, `action` or `answer`.\\n\\n- Action Description:\\n  * `search`: If you choose `search`, you must issue a clear and detailed query to the database. Specify the travel aspect you are searching for (e.g., hotel, flight, etc.) and provide well-supported arguments for your query. Only make one focused search attempt at a time.\\n  * `action`: If you choose `action`, you will communicate directly with the user. Your goal is to understand the user's preferences and intent by asking clear, specific questions. Avoid vague or overly general inquiries—focus on detailed aspects of their travel needs.\\n  * `answer`: If you choose answer, you should recommend a specific option to the user by only providing its an option ID from the database in the content field, clearly tied to a particular travel aspect.\\n\\n- Important Notes:\\n  * In each round of your interaction, you should analyze and carefully consider what to do next, and then invocate the `interact_with_env` tool to interact with the environment. You should provide your thought in each step when invocate the tool.\\n  * The total number of rounds that you can interact with the environment is limited. You should smartly balance the number of rounds that you search, take action, or provide answer.\\n  * Typically, you should start by performing a search, then take action to actively uncover the user's preferences or reason to provide an answer. Keep in mind that multiple travel aspects require answers, and while you may answer multiple times, each answer should include only one option ID.\\n  * For each travel aspect, the user may have multiple preferences. What you ask may not directly align with the user's actual preferences, so you must proactively uncover them. Moreover, user preferences are often expressed implicitly, requiring careful interpretation.\\n  * Be bold, creative and smart in your interaction with the environment! Let's begin!\", 'role': 'system'}\n {'content': 'I am planning a business trip to San Francisco from November 15th to November 20th, requiring an apartment and restaurant visits in the city during this period.\\nAlso my budget is limited so as long as my preferences are satisfied, I would also like to choose the cheapest option for each.\\n', 'role': 'user'}]",
         "interaction",
         "{'env_name': 'TravelGym', 'ground_truth': \"['R16', 'A11']\", 'id': 'apartment:2-107|restaurant:2-111', 'style': 'rule'}",
         "{'index': 3, 'need_tools_kwargs': True, 'split': 'train', 'tools_kwargs': {'interact_with_env': {'create_kwargs': {'env_name': 'TravelGym', 'id': 'apartment:2-107|restaurant:2-111'}}}}"
        ],
        [
         "4",
         "interact_travelgym",
         "[{'content': \"You are an agent that actively interact with an specific environment. The followings are the details of the environment and your action space.\\n\\n- Environment Description: TravelGym is an environment where you interact with both a user and a search database to fulfill a travel plan. Since the user's initial intent may be incomplete, you must proactively elicit preferences, perform searches, and make informed recommendations.\\n\\n- Action Space: You should invocate the function `interact_with_env` to interact with the environment. The action should be one of the following: `search`, `action` or `answer`.\\n\\n- Action Description:\\n  * `search`: If you choose `search`, you must issue a clear and detailed query to the database. Specify the travel aspect you are searching for (e.g., hotel, flight, etc.) and provide well-supported arguments for your query. Only make one focused search attempt at a time.\\n  * `action`: If you choose `action`, you will communicate directly with the user. Your goal is to understand the user's preferences and intent by asking clear, specific questions. Avoid vague or overly general inquiries—focus on detailed aspects of their travel needs.\\n  * `answer`: If you choose answer, you should recommend a specific option to the user by only providing its an option ID from the database in the content field, clearly tied to a particular travel aspect.\\n\\n- Important Notes:\\n  * In each round of your interaction, you should analyze and carefully consider what to do next, and then invocate the `interact_with_env` tool to interact with the environment. You should provide your thought in each step when invocate the tool.\\n  * The total number of rounds that you can interact with the environment is limited. You should smartly balance the number of rounds that you search, take action, or provide answer.\\n  * Typically, you should start by performing a search, then take action to actively uncover the user's preferences or reason to provide an answer. Keep in mind that multiple travel aspects require answers, and while you may answer multiple times, each answer should include only one option ID.\\n  * For each travel aspect, the user may have multiple preferences. What you ask may not directly align with the user's actual preferences, so you must proactively uncover them. Moreover, user preferences are often expressed implicitly, requiring careful interpretation.\\n  * Be bold, creative and smart in your interaction with the environment! Let's begin!\", 'role': 'system'}\n {'content': 'I am planning a trip to Los Angeles from April 15th to April 20th, during which I will stay in a hotel and rent a car.\\nAlso my budget is limited so as long as my preferences are satisfied, I would also like to choose the cheapest option for each.\\n', 'role': 'user'}]",
         "interaction",
         "{'env_name': 'TravelGym', 'ground_truth': \"['H11', 'C12']\", 'id': 'hotel:2-42|rental_car:2-39', 'style': 'rule'}",
         "{'index': 4, 'need_tools_kwargs': True, 'split': 'train', 'tools_kwargs': {'interact_with_env': {'create_kwargs': {'env_name': 'TravelGym', 'id': 'hotel:2-42|rental_car:2-39'}}}}"
        ]
       ],
       "shape": {
        "columns": 5,
        "rows": 5
       }
      },
      "text/html": [
       "<div>\n",
       "<style scoped>\n",
       "    .dataframe tbody tr th:only-of-type {\n",
       "        vertical-align: middle;\n",
       "    }\n",
       "\n",
       "    .dataframe tbody tr th {\n",
       "        vertical-align: top;\n",
       "    }\n",
       "\n",
       "    .dataframe thead th {\n",
       "        text-align: right;\n",
       "    }\n",
       "</style>\n",
       "<table border=\"1\" class=\"dataframe\">\n",
       "  <thead>\n",
       "    <tr style=\"text-align: right;\">\n",
       "      <th></th>\n",
       "      <th>data_source</th>\n",
       "      <th>prompt</th>\n",
       "      <th>ability</th>\n",
       "      <th>reward_model</th>\n",
       "      <th>extra_info</th>\n",
       "    </tr>\n",
       "  </thead>\n",
       "  <tbody>\n",
       "    <tr>\n",
       "      <th>0</th>\n",
       "      <td>interact_travelgym</td>\n",
       "      <td>[{'content': 'You are an agent that actively i...</td>\n",
       "      <td>interaction</td>\n",
       "      <td>{'env_name': 'TravelGym', 'ground_truth': '['H...</td>\n",
       "      <td>{'index': 0, 'need_tools_kwargs': True, 'split...</td>\n",
       "    </tr>\n",
       "    <tr>\n",
       "      <th>1</th>\n",
       "      <td>interact_travelgym</td>\n",
       "      <td>[{'content': 'You are an agent that actively i...</td>\n",
       "      <td>interaction</td>\n",
       "      <td>{'env_name': 'TravelGym', 'ground_truth': '['C...</td>\n",
       "      <td>{'index': 1, 'need_tools_kwargs': True, 'split...</td>\n",
       "    </tr>\n",
       "    <tr>\n",
       "      <th>2</th>\n",
       "      <td>interact_travelgym</td>\n",
       "      <td>[{'content': 'You are an agent that actively i...</td>\n",
       "      <td>interaction</td>\n",
       "      <td>{'env_name': 'TravelGym', 'ground_truth': '['H...</td>\n",
       "      <td>{'index': 2, 'need_tools_kwargs': True, 'split...</td>\n",
       "    </tr>\n",
       "    <tr>\n",
       "      <th>3</th>\n",
       "      <td>interact_travelgym</td>\n",
       "      <td>[{'content': 'You are an agent that actively i...</td>\n",
       "      <td>interaction</td>\n",
       "      <td>{'env_name': 'TravelGym', 'ground_truth': '['R...</td>\n",
       "      <td>{'index': 3, 'need_tools_kwargs': True, 'split...</td>\n",
       "    </tr>\n",
       "    <tr>\n",
       "      <th>4</th>\n",
       "      <td>interact_travelgym</td>\n",
       "      <td>[{'content': 'You are an agent that actively i...</td>\n",
       "      <td>interaction</td>\n",
       "      <td>{'env_name': 'TravelGym', 'ground_truth': '['H...</td>\n",
       "      <td>{'index': 4, 'need_tools_kwargs': True, 'split...</td>\n",
       "    </tr>\n",
       "  </tbody>\n",
       "</table>\n",
       "</div>"
      ],
      "text/plain": [
       "          data_source                                             prompt  \\\n",
       "0  interact_travelgym  [{'content': 'You are an agent that actively i...   \n",
       "1  interact_travelgym  [{'content': 'You are an agent that actively i...   \n",
       "2  interact_travelgym  [{'content': 'You are an agent that actively i...   \n",
       "3  interact_travelgym  [{'content': 'You are an agent that actively i...   \n",
       "4  interact_travelgym  [{'content': 'You are an agent that actively i...   \n",
       "\n",
       "       ability                                       reward_model  \\\n",
       "0  interaction  {'env_name': 'TravelGym', 'ground_truth': '['H...   \n",
       "1  interaction  {'env_name': 'TravelGym', 'ground_truth': '['C...   \n",
       "2  interaction  {'env_name': 'TravelGym', 'ground_truth': '['H...   \n",
       "3  interaction  {'env_name': 'TravelGym', 'ground_truth': '['R...   \n",
       "4  interaction  {'env_name': 'TravelGym', 'ground_truth': '['H...   \n",
       "\n",
       "                                          extra_info  \n",
       "0  {'index': 0, 'need_tools_kwargs': True, 'split...  \n",
       "1  {'index': 1, 'need_tools_kwargs': True, 'split...  \n",
       "2  {'index': 2, 'need_tools_kwargs': True, 'split...  \n",
       "3  {'index': 3, 'need_tools_kwargs': True, 'split...  \n",
       "4  {'index': 4, 'need_tools_kwargs': True, 'split...  "
      ]
     },
     "execution_count": 19,
     "metadata": {},
     "output_type": "execute_result"
    }
   ],
   "source": [
    "import pandas as pd\n",
    "\n",
    "df = pd.read_parquet(\"/Users/rishitoshsingh/Documents/projects/applied/UserBench/data/travel22_multiturn/train.parquet\")\n",
    "df.head()"
   ]
  },
  {
   "cell_type": "code",
   "execution_count": 20,
   "id": "70160e4c",
   "metadata": {},
   "outputs": [
    {
     "data": {
      "application/vnd.microsoft.datawrangler.viewer.v0+json": {
       "columns": [
        {
         "name": "index",
         "rawType": "object",
         "type": "string"
        },
        {
         "name": "data_source",
         "rawType": "object",
         "type": "unknown"
        },
        {
         "name": "prompt",
         "rawType": "object",
         "type": "unknown"
        },
        {
         "name": "ability",
         "rawType": "object",
         "type": "unknown"
        },
        {
         "name": "reward_model",
         "rawType": "object",
         "type": "unknown"
        },
        {
         "name": "extra_info",
         "rawType": "object",
         "type": "unknown"
        }
       ],
       "ref": "5a5537d2-22cc-45e1-a8d9-48f2f3730cff",
       "rows": [
        [
         "count",
         "570",
         "570",
         "570",
         "570",
         "570"
        ],
        [
         "unique",
         "1",
         "570",
         "1",
         "570",
         "570"
        ],
        [
         "top",
         "interact_travelgym",
         "[{'content': \"You are an agent that actively interact with an specific environment. The followings are the details of the environment and your action space.\\n\\n- Environment Description: TravelGym is an environment where you interact with both a user and a search database to fulfill a travel plan. Since the user's initial intent may be incomplete, you must proactively elicit preferences, perform searches, and make informed recommendations.\\n\\n- Action Space: You should invocate the function `interact_with_env` to interact with the environment. The action should be one of the following: `search`, `action` or `answer`.\\n\\n- Action Description:\\n  * `search`: If you choose `search`, you must issue a clear and detailed query to the database. Specify the travel aspect you are searching for (e.g., hotel, flight, etc.) and provide well-supported arguments for your query. Only make one focused search attempt at a time.\\n  * `action`: If you choose `action`, you will communicate directly with the user. Your goal is to understand the user's preferences and intent by asking clear, specific questions. Avoid vague or overly general inquiries—focus on detailed aspects of their travel needs.\\n  * `answer`: If you choose answer, you should recommend a specific option to the user by only providing its an option ID from the database in the content field, clearly tied to a particular travel aspect.\\n\\n- Important Notes:\\n  * In each round of your interaction, you should analyze and carefully consider what to do next, and then invocate the `interact_with_env` tool to interact with the environment. You should provide your thought in each step when invocate the tool.\\n  * The total number of rounds that you can interact with the environment is limited. You should smartly balance the number of rounds that you search, take action, or provide answer.\\n  * Typically, you should start by performing a search, then take action to actively uncover the user's preferences or reason to provide an answer. Keep in mind that multiple travel aspects require answers, and while you may answer multiple times, each answer should include only one option ID.\\n  * For each travel aspect, the user may have multiple preferences. What you ask may not directly align with the user's actual preferences, so you must proactively uncover them. Moreover, user preferences are often expressed implicitly, requiring careful interpretation.\\n  * Be bold, creative and smart in your interaction with the environment! Let's begin!\", 'role': 'system'}\n {'content': 'I am planning a trip from New York to San Francisco with a one-way flight on April 10th, and I will stay in a hotel in San Francisco from April 10th to April 15th.\\nAlso my budget is limited so as long as my preferences are satisfied, I would also like to choose the cheapest option for each.\\n', 'role': 'user'}]",
         "interaction",
         "{'env_name': 'TravelGym', 'ground_truth': \"['H11', 'F3']\", 'id': 'flight:2-37|hotel:2-9', 'style': 'rule'}",
         "{'index': 0, 'need_tools_kwargs': True, 'split': 'train', 'tools_kwargs': {'interact_with_env': {'create_kwargs': {'env_name': 'TravelGym', 'id': 'flight:2-37|hotel:2-9'}}}}"
        ],
        [
         "freq",
         "570",
         "1",
         "570",
         "1",
         "1"
        ]
       ],
       "shape": {
        "columns": 5,
        "rows": 4
       }
      },
      "text/html": [
       "<div>\n",
       "<style scoped>\n",
       "    .dataframe tbody tr th:only-of-type {\n",
       "        vertical-align: middle;\n",
       "    }\n",
       "\n",
       "    .dataframe tbody tr th {\n",
       "        vertical-align: top;\n",
       "    }\n",
       "\n",
       "    .dataframe thead th {\n",
       "        text-align: right;\n",
       "    }\n",
       "</style>\n",
       "<table border=\"1\" class=\"dataframe\">\n",
       "  <thead>\n",
       "    <tr style=\"text-align: right;\">\n",
       "      <th></th>\n",
       "      <th>data_source</th>\n",
       "      <th>prompt</th>\n",
       "      <th>ability</th>\n",
       "      <th>reward_model</th>\n",
       "      <th>extra_info</th>\n",
       "    </tr>\n",
       "  </thead>\n",
       "  <tbody>\n",
       "    <tr>\n",
       "      <th>count</th>\n",
       "      <td>570</td>\n",
       "      <td>570</td>\n",
       "      <td>570</td>\n",
       "      <td>570</td>\n",
       "      <td>570</td>\n",
       "    </tr>\n",
       "    <tr>\n",
       "      <th>unique</th>\n",
       "      <td>1</td>\n",
       "      <td>570</td>\n",
       "      <td>1</td>\n",
       "      <td>570</td>\n",
       "      <td>570</td>\n",
       "    </tr>\n",
       "    <tr>\n",
       "      <th>top</th>\n",
       "      <td>interact_travelgym</td>\n",
       "      <td>[{'content': 'You are an agent that actively i...</td>\n",
       "      <td>interaction</td>\n",
       "      <td>{'env_name': 'TravelGym', 'ground_truth': '['H...</td>\n",
       "      <td>{'index': 0, 'need_tools_kwargs': True, 'split...</td>\n",
       "    </tr>\n",
       "    <tr>\n",
       "      <th>freq</th>\n",
       "      <td>570</td>\n",
       "      <td>1</td>\n",
       "      <td>570</td>\n",
       "      <td>1</td>\n",
       "      <td>1</td>\n",
       "    </tr>\n",
       "  </tbody>\n",
       "</table>\n",
       "</div>"
      ],
      "text/plain": [
       "               data_source                                             prompt  \\\n",
       "count                  570                                                570   \n",
       "unique                   1                                                570   \n",
       "top     interact_travelgym  [{'content': 'You are an agent that actively i...   \n",
       "freq                   570                                                  1   \n",
       "\n",
       "            ability                                       reward_model  \\\n",
       "count           570                                                570   \n",
       "unique            1                                                570   \n",
       "top     interaction  {'env_name': 'TravelGym', 'ground_truth': '['H...   \n",
       "freq            570                                                  1   \n",
       "\n",
       "                                               extra_info  \n",
       "count                                                 570  \n",
       "unique                                                570  \n",
       "top     {'index': 0, 'need_tools_kwargs': True, 'split...  \n",
       "freq                                                    1  "
      ]
     },
     "execution_count": 20,
     "metadata": {},
     "output_type": "execute_result"
    }
   ],
   "source": [
    "df.describe()"
   ]
  },
  {
   "cell_type": "code",
   "execution_count": 21,
   "id": "d785ee00",
   "metadata": {},
   "outputs": [],
   "source": [
    "import pprint"
   ]
  },
  {
   "cell_type": "code",
   "execution_count": 22,
   "id": "07be08bd",
   "metadata": {},
   "outputs": [
    {
     "name": "stdout",
     "output_type": "stream",
     "text": [
      "{'content': 'You are an agent that actively interact with an specific '\n",
      "            'environment. The followings are the details of the environment '\n",
      "            'and your action space.\\n'\n",
      "            '\\n'\n",
      "            '- Environment Description: TravelGym is an environment where you '\n",
      "            'interact with both a user and a search database to fulfill a '\n",
      "            \"travel plan. Since the user's initial intent may be incomplete, \"\n",
      "            'you must proactively elicit preferences, perform searches, and '\n",
      "            'make informed recommendations.\\n'\n",
      "            '\\n'\n",
      "            '- Action Space: You should invocate the function '\n",
      "            '`interact_with_env` to interact with the environment. The action '\n",
      "            'should be one of the following: `search`, `action` or `answer`.\\n'\n",
      "            '\\n'\n",
      "            '- Action Description:\\n'\n",
      "            '  * `search`: If you choose `search`, you must issue a clear and '\n",
      "            'detailed query to the database. Specify the travel aspect you are '\n",
      "            'searching for (e.g., hotel, flight, etc.) and provide '\n",
      "            'well-supported arguments for your query. Only make one focused '\n",
      "            'search attempt at a time.\\n'\n",
      "            '  * `action`: If you choose `action`, you will communicate '\n",
      "            \"directly with the user. Your goal is to understand the user's \"\n",
      "            'preferences and intent by asking clear, specific questions. Avoid '\n",
      "            'vague or overly general inquiries—focus on detailed aspects of '\n",
      "            'their travel needs.\\n'\n",
      "            '  * `answer`: If you choose answer, you should recommend a '\n",
      "            'specific option to the user by only providing its an option ID '\n",
      "            'from the database in the content field, clearly tied to a '\n",
      "            'particular travel aspect.\\n'\n",
      "            '\\n'\n",
      "            '- Important Notes:\\n'\n",
      "            '  * In each round of your interaction, you should analyze and '\n",
      "            'carefully consider what to do next, and then invocate the '\n",
      "            '`interact_with_env` tool to interact with the environment. You '\n",
      "            'should provide your thought in each step when invocate the tool.\\n'\n",
      "            '  * The total number of rounds that you can interact with the '\n",
      "            'environment is limited. You should smartly balance the number of '\n",
      "            'rounds that you search, take action, or provide answer.\\n'\n",
      "            '  * Typically, you should start by performing a search, then take '\n",
      "            \"action to actively uncover the user's preferences or reason to \"\n",
      "            'provide an answer. Keep in mind that multiple travel aspects '\n",
      "            'require answers, and while you may answer multiple times, each '\n",
      "            'answer should include only one option ID.\\n'\n",
      "            '  * For each travel aspect, the user may have multiple '\n",
      "            \"preferences. What you ask may not directly align with the user's \"\n",
      "            'actual preferences, so you must proactively uncover them. '\n",
      "            'Moreover, user preferences are often expressed implicitly, '\n",
      "            'requiring careful interpretation.\\n'\n",
      "            '  * Be bold, creative and smart in your interaction with the '\n",
      "            \"environment! Let's begin!\",\n",
      " 'role': 'system'}\n",
      "{'content': 'I am planning a trip from New York to San Francisco with a '\n",
      "            'one-way flight on April 10th, and I will stay in a hotel in San '\n",
      "            'Francisco from April 10th to April 15th.\\n'\n",
      "            'Also my budget is limited so as long as my preferences are '\n",
      "            'satisfied, I would also like to choose the cheapest option for '\n",
      "            'each.\\n',\n",
      " 'role': 'user'}\n",
      "{'env_name': 'TravelGym',\n",
      " 'ground_truth': \"['H11', 'F3']\",\n",
      " 'id': 'flight:2-37|hotel:2-9',\n",
      " 'style': 'rule'}\n",
      "{'index': 0,\n",
      " 'need_tools_kwargs': True,\n",
      " 'split': 'train',\n",
      " 'tools_kwargs': {'interact_with_env': {'create_kwargs': {'env_name': 'TravelGym',\n",
      "                                                          'id': 'flight:2-37|hotel:2-9'}}}}\n"
     ]
    }
   ],
   "source": [
    "i=0\n",
    "pprint.pprint(df.iloc[i][\"prompt\"][0])\n",
    "pprint.pprint(df.iloc[i][\"prompt\"][1])\n",
    "pprint.pprint(df.iloc[i][\"reward_model\"])\n",
    "pprint.pprint(df.iloc[i][\"extra_info\"])"
   ]
  },
  {
   "cell_type": "code",
   "execution_count": 13,
   "id": "fb86c88d",
   "metadata": {},
   "outputs": [
    {
     "name": "stdout",
     "output_type": "stream",
     "text": [
      "{'content': 'You are an agent that actively interact with an specific '\n",
      "            'environment. The followings are the details of the environment '\n",
      "            'and your action space.\\n'\n",
      "            '\\n'\n",
      "            '- Environment Description: TravelGym is an environment where you '\n",
      "            'interact with both a user and a search database to fulfill a '\n",
      "            \"travel plan. Since the user's initial intent may be incomplete, \"\n",
      "            'you must proactively elicit preferences, perform searches, and '\n",
      "            'make informed recommendations.\\n'\n",
      "            '\\n'\n",
      "            '- Action Space: You should invocate the function '\n",
      "            '`interact_with_env` to interact with the environment. The action '\n",
      "            'should be one of the following: `search`, `action` or `answer`.\\n'\n",
      "            '\\n'\n",
      "            '- Action Description:\\n'\n",
      "            '  * `search`: If you choose `search`, you must issue a clear and '\n",
      "            'detailed query to the database. Specify the travel aspect you are '\n",
      "            'searching for (e.g., hotel, flight, etc.) and provide '\n",
      "            'well-supported arguments for your query. Only make one focused '\n",
      "            'search attempt at a time.\\n'\n",
      "            '  * `action`: If you choose `action`, you will communicate '\n",
      "            \"directly with the user. Your goal is to understand the user's \"\n",
      "            'preferences and intent by asking clear, specific questions. Avoid '\n",
      "            'vague or overly general inquiries—focus on detailed aspects of '\n",
      "            'their travel needs.\\n'\n",
      "            '  * `answer`: If you choose answer, you should recommend a '\n",
      "            'specific option to the user by only providing its an option ID '\n",
      "            'from the database in the content field, clearly tied to a '\n",
      "            'particular travel aspect.\\n'\n",
      "            '\\n'\n",
      "            '- Important Notes:\\n'\n",
      "            '  * In each round of your interaction, you should analyze and '\n",
      "            'carefully consider what to do next, and then invocate the '\n",
      "            '`interact_with_env` tool to interact with the environment. You '\n",
      "            'should provide your thought in each step when invocate the tool.\\n'\n",
      "            '  * The total number of rounds that you can interact with the '\n",
      "            'environment is limited. You should smartly balance the number of '\n",
      "            'rounds that you search, take action, or provide answer.\\n'\n",
      "            '  * Typically, you should start by performing a search, then take '\n",
      "            \"action to actively uncover the user's preferences or reason to \"\n",
      "            'provide an answer. Keep in mind that multiple travel aspects '\n",
      "            'require answers, and while you may answer multiple times, each '\n",
      "            'answer should include only one option ID.\\n'\n",
      "            '  * For each travel aspect, the user may have multiple '\n",
      "            \"preferences. What you ask may not directly align with the user's \"\n",
      "            'actual preferences, so you must proactively uncover them. '\n",
      "            'Moreover, user preferences are often expressed implicitly, '\n",
      "            'requiring careful interpretation.\\n'\n",
      "            '  * Be bold, creative and smart in your interaction with the '\n",
      "            \"environment! Let's begin!\",\n",
      " 'role': 'system'}\n",
      "{'content': 'I am planning a trip to San Francisco from April 10th to April '\n",
      "            '20th, staying in an apartment and renting a car for the duration '\n",
      "            'of my stay.\\n'\n",
      "            'Also my budget is limited so as long as my preferences are '\n",
      "            'satisfied, I would also like to choose the cheapest option for '\n",
      "            'each.\\n',\n",
      " 'role': 'user'}\n"
     ]
    }
   ],
   "source": [
    "i=1\n",
    "pprint.pprint(df.iloc[i][\"prompt\"][0])\n",
    "pprint.pprint(df.iloc[i][\"prompt\"][1])"
   ]
  },
  {
   "cell_type": "code",
   "execution_count": 14,
   "id": "87cd73f8",
   "metadata": {},
   "outputs": [
    {
     "name": "stdout",
     "output_type": "stream",
     "text": [
      "{'content': 'I am planning a trip to San Francisco from April 10th to April '\n",
      "            '20th, staying in an apartment and renting a car for the duration '\n",
      "            'of my stay.\\n'\n",
      "            'Also my budget is limited so as long as my preferences are '\n",
      "            'satisfied, I would also like to choose the cheapest option for '\n",
      "            'each.\\n',\n",
      " 'role': 'user'}\n",
      "{'content': 'I am planning a trip to Florence, Italy, staying in a hotel from '\n",
      "            'April 15th to April 20th, and I will dine at a restaurant in the '\n",
      "            'city on April 17th.\\n'\n",
      "            'Also my budget is limited so as long as my preferences are '\n",
      "            'satisfied, I would also like to choose the cheapest option for '\n",
      "            'each.\\n',\n",
      " 'role': 'user'}\n",
      "{'content': 'I am planning a business trip to San Francisco from November 15th '\n",
      "            'to November 20th, requiring an apartment and restaurant visits in '\n",
      "            'the city during this period.\\n'\n",
      "            'Also my budget is limited so as long as my preferences are '\n",
      "            'satisfied, I would also like to choose the cheapest option for '\n",
      "            'each.\\n',\n",
      " 'role': 'user'}\n",
      "{'content': 'I am planning a trip to Los Angeles from April 15th to April '\n",
      "            '20th, during which I will stay in a hotel and rent a car.\\n'\n",
      "            'Also my budget is limited so as long as my preferences are '\n",
      "            'satisfied, I would also like to choose the cheapest option for '\n",
      "            'each.\\n',\n",
      " 'role': 'user'}\n",
      "{'content': 'I need a one-way flight from New York to Los Angeles on December '\n",
      "            '15th and a rental car in Los Angeles from December 15th to '\n",
      "            'December 22nd.\\n'\n",
      "            'Also my budget is limited so as long as my preferences are '\n",
      "            'satisfied, I would also like to choose the cheapest option for '\n",
      "            'each.\\n',\n",
      " 'role': 'user'}\n"
     ]
    }
   ],
   "source": [
    "i=1\n",
    "pprint.pprint(df.iloc[i][\"prompt\"][1])\n",
    "pprint.pprint(df.iloc[i+1][\"prompt\"][1])\n",
    "pprint.pprint(df.iloc[i+2][\"prompt\"][1])\n",
    "pprint.pprint(df.iloc[i+3][\"prompt\"][1])\n",
    "pprint.pprint(df.iloc[i+4][\"prompt\"][1])"
   ]
  },
  {
   "cell_type": "code",
   "execution_count": 23,
   "id": "a84d8d62",
   "metadata": {},
   "outputs": [
    {
     "data": {
      "application/vnd.microsoft.datawrangler.viewer.v0+json": {
       "columns": [
        {
         "name": "index",
         "rawType": "int64",
         "type": "integer"
        },
        {
         "name": "data_source",
         "rawType": "object",
         "type": "string"
        },
        {
         "name": "prompt",
         "rawType": "object",
         "type": "unknown"
        },
        {
         "name": "ability",
         "rawType": "object",
         "type": "string"
        },
        {
         "name": "reward_model",
         "rawType": "object",
         "type": "unknown"
        },
        {
         "name": "extra_info",
         "rawType": "object",
         "type": "unknown"
        }
       ],
       "ref": "a39e160b-aecb-4473-bafb-132920412663",
       "rows": [
        [
         "0",
         "interact_travelgym",
         "[{'content': \"You are an agent that actively interact with an specific environment. The followings are the details of the environment and your action space.\\n\\n- Environment Description: TravelGym is an environment where you interact with both a user and a search database to fulfill a travel plan. Since the user's initial intent may be incomplete, you must proactively elicit preferences, perform searches, and make informed recommendations.\\n\\n- Action Space: You should invocate the function `interact_with_env` to interact with the environment. The action should be one of the following: `search`, `action` or `answer`.\\n\\n- Action Description:\\n  * `search`: If you choose `search`, you must issue a clear and detailed query to the database. Specify the travel aspect you are searching for (e.g., hotel, flight, etc.) and provide well-supported arguments for your query. Only make one focused search attempt at a time.\\n  * `action`: If you choose `action`, you will communicate directly with the user. Your goal is to understand the user's preferences and intent by asking clear, specific questions. Avoid vague or overly general inquiries—focus on detailed aspects of their travel needs.\\n  * `answer`: If you choose answer, you should recommend a specific option to the user by only providing its an option ID from the database in the content field, clearly tied to a particular travel aspect.\\n\\n- Important Notes:\\n  * In each round of your interaction, you should analyze and carefully consider what to do next, and then invocate the `interact_with_env` tool to interact with the environment. You should provide your thought in each step when invocate the tool.\\n  * The total number of rounds that you can interact with the environment is limited. You should smartly balance the number of rounds that you search, take action, or provide answer.\\n  * Typically, you should start by performing a search, then take action to actively uncover the user's preferences or reason to provide an answer. Keep in mind that multiple travel aspects require answers, and while you may answer multiple times, each answer should include only one option ID.\\n  * For each travel aspect, the user may have multiple preferences. What you ask may not directly align with the user's actual preferences, so you must proactively uncover them. Moreover, user preferences are often expressed implicitly, requiring careful interpretation.\\n  * Be bold, creative and smart in your interaction with the environment! Let's begin!\", 'role': 'system'}\n {'content': 'I am planning a family trip to Austin from November 10th to November 15th, staying in an apartment and renting a car for the entire duration.\\nAlso my budget is limited so as long as my preferences are satisfied, I would also like to choose the cheapest option for each.\\n', 'role': 'user'}]",
         "interaction",
         "{'env_name': 'TravelGym', 'ground_truth': \"['C16', 'A17']\", 'id': 'apartment:2-86|rental_car:2-60', 'style': 'rule'}",
         "{'index': 0, 'need_tools_kwargs': True, 'split': 'test', 'tools_kwargs': {'interact_with_env': {'create_kwargs': {'env_name': 'TravelGym', 'id': 'apartment:2-86|rental_car:2-60'}}}}"
        ],
        [
         "1",
         "interact_travelgym",
         "[{'content': \"You are an agent that actively interact with an specific environment. The followings are the details of the environment and your action space.\\n\\n- Environment Description: TravelGym is an environment where you interact with both a user and a search database to fulfill a travel plan. Since the user's initial intent may be incomplete, you must proactively elicit preferences, perform searches, and make informed recommendations.\\n\\n- Action Space: You should invocate the function `interact_with_env` to interact with the environment. The action should be one of the following: `search`, `action` or `answer`.\\n\\n- Action Description:\\n  * `search`: If you choose `search`, you must issue a clear and detailed query to the database. Specify the travel aspect you are searching for (e.g., hotel, flight, etc.) and provide well-supported arguments for your query. Only make one focused search attempt at a time.\\n  * `action`: If you choose `action`, you will communicate directly with the user. Your goal is to understand the user's preferences and intent by asking clear, specific questions. Avoid vague or overly general inquiries—focus on detailed aspects of their travel needs.\\n  * `answer`: If you choose answer, you should recommend a specific option to the user by only providing its an option ID from the database in the content field, clearly tied to a particular travel aspect.\\n\\n- Important Notes:\\n  * In each round of your interaction, you should analyze and carefully consider what to do next, and then invocate the `interact_with_env` tool to interact with the environment. You should provide your thought in each step when invocate the tool.\\n  * The total number of rounds that you can interact with the environment is limited. You should smartly balance the number of rounds that you search, take action, or provide answer.\\n  * Typically, you should start by performing a search, then take action to actively uncover the user's preferences or reason to provide an answer. Keep in mind that multiple travel aspects require answers, and while you may answer multiple times, each answer should include only one option ID.\\n  * For each travel aspect, the user may have multiple preferences. What you ask may not directly align with the user's actual preferences, so you must proactively uncover them. Moreover, user preferences are often expressed implicitly, requiring careful interpretation.\\n  * Be bold, creative and smart in your interaction with the environment! Let's begin!\", 'role': 'system'}\n {'content': 'I am planning a trip to Austin, Texas, staying in an apartment from November 10th to November 15th, and I plan to visit a restaurant in Austin on November 11th.\\nAlso my budget is limited so as long as my preferences are satisfied, I would also like to choose the cheapest option for each.\\n', 'role': 'user'}]",
         "interaction",
         "{'env_name': 'TravelGym', 'ground_truth': \"['R16', 'A20']\", 'id': 'apartment:2-98|restaurant:2-98', 'style': 'rule'}",
         "{'index': 1, 'need_tools_kwargs': True, 'split': 'test', 'tools_kwargs': {'interact_with_env': {'create_kwargs': {'env_name': 'TravelGym', 'id': 'apartment:2-98|restaurant:2-98'}}}}"
        ],
        [
         "2",
         "interact_travelgym",
         "[{'content': \"You are an agent that actively interact with an specific environment. The followings are the details of the environment and your action space.\\n\\n- Environment Description: TravelGym is an environment where you interact with both a user and a search database to fulfill a travel plan. Since the user's initial intent may be incomplete, you must proactively elicit preferences, perform searches, and make informed recommendations.\\n\\n- Action Space: You should invocate the function `interact_with_env` to interact with the environment. The action should be one of the following: `search`, `action` or `answer`.\\n\\n- Action Description:\\n  * `search`: If you choose `search`, you must issue a clear and detailed query to the database. Specify the travel aspect you are searching for (e.g., hotel, flight, etc.) and provide well-supported arguments for your query. Only make one focused search attempt at a time.\\n  * `action`: If you choose `action`, you will communicate directly with the user. Your goal is to understand the user's preferences and intent by asking clear, specific questions. Avoid vague or overly general inquiries—focus on detailed aspects of their travel needs.\\n  * `answer`: If you choose answer, you should recommend a specific option to the user by only providing its an option ID from the database in the content field, clearly tied to a particular travel aspect.\\n\\n- Important Notes:\\n  * In each round of your interaction, you should analyze and carefully consider what to do next, and then invocate the `interact_with_env` tool to interact with the environment. You should provide your thought in each step when invocate the tool.\\n  * The total number of rounds that you can interact with the environment is limited. You should smartly balance the number of rounds that you search, take action, or provide answer.\\n  * Typically, you should start by performing a search, then take action to actively uncover the user's preferences or reason to provide an answer. Keep in mind that multiple travel aspects require answers, and while you may answer multiple times, each answer should include only one option ID.\\n  * For each travel aspect, the user may have multiple preferences. What you ask may not directly align with the user's actual preferences, so you must proactively uncover them. Moreover, user preferences are often expressed implicitly, requiring careful interpretation.\\n  * Be bold, creative and smart in your interaction with the environment! Let's begin!\", 'role': 'system'}\n {'content': 'I need a one-way flight from New York to Denver on December 15th and a rental car in Denver from December 15th to December 22nd.\\nAlso my budget is limited so as long as my preferences are satisfied, I would also like to choose the cheapest option for each.\\n', 'role': 'user'}]",
         "interaction",
         "{'env_name': 'TravelGym', 'ground_truth': \"['C13', 'F2']\", 'id': 'flight:2-74|rental_car:2-36', 'style': 'rule'}",
         "{'index': 2, 'need_tools_kwargs': True, 'split': 'test', 'tools_kwargs': {'interact_with_env': {'create_kwargs': {'env_name': 'TravelGym', 'id': 'flight:2-74|rental_car:2-36'}}}}"
        ],
        [
         "3",
         "interact_travelgym",
         "[{'content': \"You are an agent that actively interact with an specific environment. The followings are the details of the environment and your action space.\\n\\n- Environment Description: TravelGym is an environment where you interact with both a user and a search database to fulfill a travel plan. Since the user's initial intent may be incomplete, you must proactively elicit preferences, perform searches, and make informed recommendations.\\n\\n- Action Space: You should invocate the function `interact_with_env` to interact with the environment. The action should be one of the following: `search`, `action` or `answer`.\\n\\n- Action Description:\\n  * `search`: If you choose `search`, you must issue a clear and detailed query to the database. Specify the travel aspect you are searching for (e.g., hotel, flight, etc.) and provide well-supported arguments for your query. Only make one focused search attempt at a time.\\n  * `action`: If you choose `action`, you will communicate directly with the user. Your goal is to understand the user's preferences and intent by asking clear, specific questions. Avoid vague or overly general inquiries—focus on detailed aspects of their travel needs.\\n  * `answer`: If you choose answer, you should recommend a specific option to the user by only providing its an option ID from the database in the content field, clearly tied to a particular travel aspect.\\n\\n- Important Notes:\\n  * In each round of your interaction, you should analyze and carefully consider what to do next, and then invocate the `interact_with_env` tool to interact with the environment. You should provide your thought in each step when invocate the tool.\\n  * The total number of rounds that you can interact with the environment is limited. You should smartly balance the number of rounds that you search, take action, or provide answer.\\n  * Typically, you should start by performing a search, then take action to actively uncover the user's preferences or reason to provide an answer. Keep in mind that multiple travel aspects require answers, and while you may answer multiple times, each answer should include only one option ID.\\n  * For each travel aspect, the user may have multiple preferences. What you ask may not directly align with the user's actual preferences, so you must proactively uncover them. Moreover, user preferences are often expressed implicitly, requiring careful interpretation.\\n  * Be bold, creative and smart in your interaction with the environment! Let's begin!\", 'role': 'system'}\n {'content': 'I am planning a trip with a one-way flight from New York to Dubai on December 10th and will visit a restaurant in Dubai on December 11th.\\nAlso my budget is limited so as long as my preferences are satisfied, I would also like to choose the cheapest option for each.\\n', 'role': 'user'}]",
         "interaction",
         "{'env_name': 'TravelGym', 'ground_truth': \"['R19', 'F4']\", 'id': 'flight:2-76|restaurant:2-70', 'style': 'rule'}",
         "{'index': 3, 'need_tools_kwargs': True, 'split': 'test', 'tools_kwargs': {'interact_with_env': {'create_kwargs': {'env_name': 'TravelGym', 'id': 'flight:2-76|restaurant:2-70'}}}}"
        ],
        [
         "4",
         "interact_travelgym",
         "[{'content': \"You are an agent that actively interact with an specific environment. The followings are the details of the environment and your action space.\\n\\n- Environment Description: TravelGym is an environment where you interact with both a user and a search database to fulfill a travel plan. Since the user's initial intent may be incomplete, you must proactively elicit preferences, perform searches, and make informed recommendations.\\n\\n- Action Space: You should invocate the function `interact_with_env` to interact with the environment. The action should be one of the following: `search`, `action` or `answer`.\\n\\n- Action Description:\\n  * `search`: If you choose `search`, you must issue a clear and detailed query to the database. Specify the travel aspect you are searching for (e.g., hotel, flight, etc.) and provide well-supported arguments for your query. Only make one focused search attempt at a time.\\n  * `action`: If you choose `action`, you will communicate directly with the user. Your goal is to understand the user's preferences and intent by asking clear, specific questions. Avoid vague or overly general inquiries—focus on detailed aspects of their travel needs.\\n  * `answer`: If you choose answer, you should recommend a specific option to the user by only providing its an option ID from the database in the content field, clearly tied to a particular travel aspect.\\n\\n- Important Notes:\\n  * In each round of your interaction, you should analyze and carefully consider what to do next, and then invocate the `interact_with_env` tool to interact with the environment. You should provide your thought in each step when invocate the tool.\\n  * The total number of rounds that you can interact with the environment is limited. You should smartly balance the number of rounds that you search, take action, or provide answer.\\n  * Typically, you should start by performing a search, then take action to actively uncover the user's preferences or reason to provide an answer. Keep in mind that multiple travel aspects require answers, and while you may answer multiple times, each answer should include only one option ID.\\n  * For each travel aspect, the user may have multiple preferences. What you ask may not directly align with the user's actual preferences, so you must proactively uncover them. Moreover, user preferences are often expressed implicitly, requiring careful interpretation.\\n  * Be bold, creative and smart in your interaction with the environment! Let's begin!\", 'role': 'system'}\n {'content': 'I need a one-way flight from New York to Los Angeles on December 15th and a rental car in Los Angeles from December 15th to December 20th.\\nAlso my budget is limited so as long as my preferences are satisfied, I would also like to choose the cheapest option for each.\\n', 'role': 'user'}]",
         "interaction",
         "{'env_name': 'TravelGym', 'ground_truth': \"['C20', 'F2']\", 'id': 'flight:2-39|rental_car:2-49', 'style': 'rule'}",
         "{'index': 4, 'need_tools_kwargs': True, 'split': 'test', 'tools_kwargs': {'interact_with_env': {'create_kwargs': {'env_name': 'TravelGym', 'id': 'flight:2-39|rental_car:2-49'}}}}"
        ]
       ],
       "shape": {
        "columns": 5,
        "rows": 5
       }
      },
      "text/html": [
       "<div>\n",
       "<style scoped>\n",
       "    .dataframe tbody tr th:only-of-type {\n",
       "        vertical-align: middle;\n",
       "    }\n",
       "\n",
       "    .dataframe tbody tr th {\n",
       "        vertical-align: top;\n",
       "    }\n",
       "\n",
       "    .dataframe thead th {\n",
       "        text-align: right;\n",
       "    }\n",
       "</style>\n",
       "<table border=\"1\" class=\"dataframe\">\n",
       "  <thead>\n",
       "    <tr style=\"text-align: right;\">\n",
       "      <th></th>\n",
       "      <th>data_source</th>\n",
       "      <th>prompt</th>\n",
       "      <th>ability</th>\n",
       "      <th>reward_model</th>\n",
       "      <th>extra_info</th>\n",
       "    </tr>\n",
       "  </thead>\n",
       "  <tbody>\n",
       "    <tr>\n",
       "      <th>0</th>\n",
       "      <td>interact_travelgym</td>\n",
       "      <td>[{'content': 'You are an agent that actively i...</td>\n",
       "      <td>interaction</td>\n",
       "      <td>{'env_name': 'TravelGym', 'ground_truth': '['C...</td>\n",
       "      <td>{'index': 0, 'need_tools_kwargs': True, 'split...</td>\n",
       "    </tr>\n",
       "    <tr>\n",
       "      <th>1</th>\n",
       "      <td>interact_travelgym</td>\n",
       "      <td>[{'content': 'You are an agent that actively i...</td>\n",
       "      <td>interaction</td>\n",
       "      <td>{'env_name': 'TravelGym', 'ground_truth': '['R...</td>\n",
       "      <td>{'index': 1, 'need_tools_kwargs': True, 'split...</td>\n",
       "    </tr>\n",
       "    <tr>\n",
       "      <th>2</th>\n",
       "      <td>interact_travelgym</td>\n",
       "      <td>[{'content': 'You are an agent that actively i...</td>\n",
       "      <td>interaction</td>\n",
       "      <td>{'env_name': 'TravelGym', 'ground_truth': '['C...</td>\n",
       "      <td>{'index': 2, 'need_tools_kwargs': True, 'split...</td>\n",
       "    </tr>\n",
       "    <tr>\n",
       "      <th>3</th>\n",
       "      <td>interact_travelgym</td>\n",
       "      <td>[{'content': 'You are an agent that actively i...</td>\n",
       "      <td>interaction</td>\n",
       "      <td>{'env_name': 'TravelGym', 'ground_truth': '['R...</td>\n",
       "      <td>{'index': 3, 'need_tools_kwargs': True, 'split...</td>\n",
       "    </tr>\n",
       "    <tr>\n",
       "      <th>4</th>\n",
       "      <td>interact_travelgym</td>\n",
       "      <td>[{'content': 'You are an agent that actively i...</td>\n",
       "      <td>interaction</td>\n",
       "      <td>{'env_name': 'TravelGym', 'ground_truth': '['C...</td>\n",
       "      <td>{'index': 4, 'need_tools_kwargs': True, 'split...</td>\n",
       "    </tr>\n",
       "  </tbody>\n",
       "</table>\n",
       "</div>"
      ],
      "text/plain": [
       "          data_source                                             prompt  \\\n",
       "0  interact_travelgym  [{'content': 'You are an agent that actively i...   \n",
       "1  interact_travelgym  [{'content': 'You are an agent that actively i...   \n",
       "2  interact_travelgym  [{'content': 'You are an agent that actively i...   \n",
       "3  interact_travelgym  [{'content': 'You are an agent that actively i...   \n",
       "4  interact_travelgym  [{'content': 'You are an agent that actively i...   \n",
       "\n",
       "       ability                                       reward_model  \\\n",
       "0  interaction  {'env_name': 'TravelGym', 'ground_truth': '['C...   \n",
       "1  interaction  {'env_name': 'TravelGym', 'ground_truth': '['R...   \n",
       "2  interaction  {'env_name': 'TravelGym', 'ground_truth': '['C...   \n",
       "3  interaction  {'env_name': 'TravelGym', 'ground_truth': '['R...   \n",
       "4  interaction  {'env_name': 'TravelGym', 'ground_truth': '['C...   \n",
       "\n",
       "                                          extra_info  \n",
       "0  {'index': 0, 'need_tools_kwargs': True, 'split...  \n",
       "1  {'index': 1, 'need_tools_kwargs': True, 'split...  \n",
       "2  {'index': 2, 'need_tools_kwargs': True, 'split...  \n",
       "3  {'index': 3, 'need_tools_kwargs': True, 'split...  \n",
       "4  {'index': 4, 'need_tools_kwargs': True, 'split...  "
      ]
     },
     "execution_count": 23,
     "metadata": {},
     "output_type": "execute_result"
    }
   ],
   "source": [
    "import pandas as pd\n",
    "\n",
    "df = pd.read_parquet(\"/Users/rishitoshsingh/Documents/projects/applied/UserBench/data/travel22_multiturn/test.parquet\")\n",
    "df.head()"
   ]
  },
  {
   "cell_type": "code",
   "execution_count": 24,
   "id": "2a759861",
   "metadata": {},
   "outputs": [
    {
     "name": "stdout",
     "output_type": "stream",
     "text": [
      "{'content': 'You are an agent that actively interact with an specific '\n",
      "            'environment. The followings are the details of the environment '\n",
      "            'and your action space.\\n'\n",
      "            '\\n'\n",
      "            '- Environment Description: TravelGym is an environment where you '\n",
      "            'interact with both a user and a search database to fulfill a '\n",
      "            \"travel plan. Since the user's initial intent may be incomplete, \"\n",
      "            'you must proactively elicit preferences, perform searches, and '\n",
      "            'make informed recommendations.\\n'\n",
      "            '\\n'\n",
      "            '- Action Space: You should invocate the function '\n",
      "            '`interact_with_env` to interact with the environment. The action '\n",
      "            'should be one of the following: `search`, `action` or `answer`.\\n'\n",
      "            '\\n'\n",
      "            '- Action Description:\\n'\n",
      "            '  * `search`: If you choose `search`, you must issue a clear and '\n",
      "            'detailed query to the database. Specify the travel aspect you are '\n",
      "            'searching for (e.g., hotel, flight, etc.) and provide '\n",
      "            'well-supported arguments for your query. Only make one focused '\n",
      "            'search attempt at a time.\\n'\n",
      "            '  * `action`: If you choose `action`, you will communicate '\n",
      "            \"directly with the user. Your goal is to understand the user's \"\n",
      "            'preferences and intent by asking clear, specific questions. Avoid '\n",
      "            'vague or overly general inquiries—focus on detailed aspects of '\n",
      "            'their travel needs.\\n'\n",
      "            '  * `answer`: If you choose answer, you should recommend a '\n",
      "            'specific option to the user by only providing its an option ID '\n",
      "            'from the database in the content field, clearly tied to a '\n",
      "            'particular travel aspect.\\n'\n",
      "            '\\n'\n",
      "            '- Important Notes:\\n'\n",
      "            '  * In each round of your interaction, you should analyze and '\n",
      "            'carefully consider what to do next, and then invocate the '\n",
      "            '`interact_with_env` tool to interact with the environment. You '\n",
      "            'should provide your thought in each step when invocate the tool.\\n'\n",
      "            '  * The total number of rounds that you can interact with the '\n",
      "            'environment is limited. You should smartly balance the number of '\n",
      "            'rounds that you search, take action, or provide answer.\\n'\n",
      "            '  * Typically, you should start by performing a search, then take '\n",
      "            \"action to actively uncover the user's preferences or reason to \"\n",
      "            'provide an answer. Keep in mind that multiple travel aspects '\n",
      "            'require answers, and while you may answer multiple times, each '\n",
      "            'answer should include only one option ID.\\n'\n",
      "            '  * For each travel aspect, the user may have multiple '\n",
      "            \"preferences. What you ask may not directly align with the user's \"\n",
      "            'actual preferences, so you must proactively uncover them. '\n",
      "            'Moreover, user preferences are often expressed implicitly, '\n",
      "            'requiring careful interpretation.\\n'\n",
      "            '  * Be bold, creative and smart in your interaction with the '\n",
      "            \"environment! Let's begin!\",\n",
      " 'role': 'system'}\n",
      "{'content': 'I am planning a family trip to Austin from November 10th to '\n",
      "            'November 15th, staying in an apartment and renting a car for the '\n",
      "            'entire duration.\\n'\n",
      "            'Also my budget is limited so as long as my preferences are '\n",
      "            'satisfied, I would also like to choose the cheapest option for '\n",
      "            'each.\\n',\n",
      " 'role': 'user'}\n",
      "{'env_name': 'TravelGym',\n",
      " 'ground_truth': \"['C16', 'A17']\",\n",
      " 'id': 'apartment:2-86|rental_car:2-60',\n",
      " 'style': 'rule'}\n",
      "{'index': 0,\n",
      " 'need_tools_kwargs': True,\n",
      " 'split': 'test',\n",
      " 'tools_kwargs': {'interact_with_env': {'create_kwargs': {'env_name': 'TravelGym',\n",
      "                                                          'id': 'apartment:2-86|rental_car:2-60'}}}}\n"
     ]
    }
   ],
   "source": [
    "i=0\n",
    "pprint.pprint(df.iloc[i][\"prompt\"][0])\n",
    "pprint.pprint(df.iloc[i][\"prompt\"][1])\n",
    "pprint.pprint(df.iloc[i][\"reward_model\"])\n",
    "pprint.pprint(df.iloc[i][\"extra_info\"])"
   ]
  },
  {
   "cell_type": "markdown",
   "id": "2fa0056f",
   "metadata": {},
   "source": [
    "# 444_multiturn"
   ]
  },
  {
   "cell_type": "code",
   "execution_count": 26,
   "id": "7effdc83",
   "metadata": {},
   "outputs": [
    {
     "data": {
      "application/vnd.microsoft.datawrangler.viewer.v0+json": {
       "columns": [
        {
         "name": "index",
         "rawType": "int64",
         "type": "integer"
        },
        {
         "name": "data_source",
         "rawType": "object",
         "type": "string"
        },
        {
         "name": "prompt",
         "rawType": "object",
         "type": "unknown"
        },
        {
         "name": "ability",
         "rawType": "object",
         "type": "string"
        },
        {
         "name": "reward_model",
         "rawType": "object",
         "type": "unknown"
        },
        {
         "name": "extra_info",
         "rawType": "object",
         "type": "unknown"
        }
       ],
       "ref": "29a86c5d-87c0-48ae-8f13-3e7a9f0356d9",
       "rows": [
        [
         "0",
         "interact_travelgym",
         "[{'content': \"You are an agent that actively interact with an specific environment. The followings are the details of the environment and your action space.\\n\\n- Environment Description: TravelGym is an environment where you interact with both a user and a search database to fulfill a travel plan. Since the user's initial intent may be incomplete, you must proactively elicit preferences, perform searches, and make informed recommendations.\\n\\n- Action Space: You should invocate the function `interact_with_env` to interact with the environment. The action should be one of the following: `search`, `action` or `answer`.\\n\\n- Action Description:\\n  * `search`: If you choose `search`, you must issue a clear and detailed query to the database. Specify the travel aspect you are searching for (e.g., hotel, flight, etc.) and provide well-supported arguments for your query. Only make one focused search attempt at a time.\\n  * `action`: If you choose `action`, you will communicate directly with the user. Your goal is to understand the user's preferences and intent by asking clear, specific questions. Avoid vague or overly general inquiries—focus on detailed aspects of their travel needs.\\n  * `answer`: If you choose answer, you should recommend a specific option to the user by only providing its an option ID from the database in the content field, clearly tied to a particular travel aspect.\\n\\n- Important Notes:\\n  * In each round of your interaction, you should analyze and carefully consider what to do next, and then invocate the `interact_with_env` tool to interact with the environment. You should provide your thought in each step when invocate the tool.\\n  * The total number of rounds that you can interact with the environment is limited. You should smartly balance the number of rounds that you search, take action, or provide answer.\\n  * Typically, you should start by performing a search, then take action to actively uncover the user's preferences or reason to provide an answer. Keep in mind that multiple travel aspects require answers, and while you may answer multiple times, each answer should include only one option ID.\\n  * For each travel aspect, the user may have multiple preferences. What you ask may not directly align with the user's actual preferences, so you must proactively uncover them. Moreover, user preferences are often expressed implicitly, requiring careful interpretation.\\n  * Be bold, creative and smart in your interaction with the environment! Let's begin!\", 'role': 'system'}\n {'content': 'I am planning a trip to Paris from December 10th to December 17th, starting with a one-way flight from New York to Paris on December 10th. I will stay at a hotel in Paris from December 10th to December 17th and dine at a restaurant in Paris on December 11th.\\nAlso my budget is limited so as long as my preferences are satisfied, I would also like to choose the cheapest option for each.\\n', 'role': 'user'}]",
         "interaction",
         "{'env_name': 'TravelGym', 'ground_truth': \"['F16', 'R7', 'H14']\", 'id': 'flight:4-315|hotel:4-60|restaurant:4-81', 'style': 'rule'}",
         "{'index': 0, 'need_tools_kwargs': True, 'split': 'train', 'tools_kwargs': {'interact_with_env': {'create_kwargs': {'env_name': 'TravelGym', 'id': 'flight:4-315|hotel:4-60|restaurant:4-81'}}}}"
        ],
        [
         "1",
         "interact_travelgym",
         "[{'content': \"You are an agent that actively interact with an specific environment. The followings are the details of the environment and your action space.\\n\\n- Environment Description: TravelGym is an environment where you interact with both a user and a search database to fulfill a travel plan. Since the user's initial intent may be incomplete, you must proactively elicit preferences, perform searches, and make informed recommendations.\\n\\n- Action Space: You should invocate the function `interact_with_env` to interact with the environment. The action should be one of the following: `search`, `action` or `answer`.\\n\\n- Action Description:\\n  * `search`: If you choose `search`, you must issue a clear and detailed query to the database. Specify the travel aspect you are searching for (e.g., hotel, flight, etc.) and provide well-supported arguments for your query. Only make one focused search attempt at a time.\\n  * `action`: If you choose `action`, you will communicate directly with the user. Your goal is to understand the user's preferences and intent by asking clear, specific questions. Avoid vague or overly general inquiries—focus on detailed aspects of their travel needs.\\n  * `answer`: If you choose answer, you should recommend a specific option to the user by only providing its an option ID from the database in the content field, clearly tied to a particular travel aspect.\\n\\n- Important Notes:\\n  * In each round of your interaction, you should analyze and carefully consider what to do next, and then invocate the `interact_with_env` tool to interact with the environment. You should provide your thought in each step when invocate the tool.\\n  * The total number of rounds that you can interact with the environment is limited. You should smartly balance the number of rounds that you search, take action, or provide answer.\\n  * Typically, you should start by performing a search, then take action to actively uncover the user's preferences or reason to provide an answer. Keep in mind that multiple travel aspects require answers, and while you may answer multiple times, each answer should include only one option ID.\\n  * For each travel aspect, the user may have multiple preferences. What you ask may not directly align with the user's actual preferences, so you must proactively uncover them. Moreover, user preferences are often expressed implicitly, requiring careful interpretation.\\n  * Be bold, creative and smart in your interaction with the environment! Let's begin!\", 'role': 'system'}\n {'content': 'I need a one-way flight from New York to San Francisco on December 10th, a rental car in San Francisco from December 10th to December 17th, and a restaurant reservation in San Francisco on December 11th.\\nAlso my budget is limited so as long as my preferences are satisfied, I would also like to choose the cheapest option for each.\\n', 'role': 'user'}]",
         "interaction",
         "{'env_name': 'TravelGym', 'ground_truth': \"['F12', 'C5', 'R2']\", 'id': 'flight:4-412|rental_car:4-160|restaurant:4-128', 'style': 'rule'}",
         "{'index': 1, 'need_tools_kwargs': True, 'split': 'train', 'tools_kwargs': {'interact_with_env': {'create_kwargs': {'env_name': 'TravelGym', 'id': 'flight:4-412|rental_car:4-160|restaurant:4-128'}}}}"
        ],
        [
         "2",
         "interact_travelgym",
         "[{'content': \"You are an agent that actively interact with an specific environment. The followings are the details of the environment and your action space.\\n\\n- Environment Description: TravelGym is an environment where you interact with both a user and a search database to fulfill a travel plan. Since the user's initial intent may be incomplete, you must proactively elicit preferences, perform searches, and make informed recommendations.\\n\\n- Action Space: You should invocate the function `interact_with_env` to interact with the environment. The action should be one of the following: `search`, `action` or `answer`.\\n\\n- Action Description:\\n  * `search`: If you choose `search`, you must issue a clear and detailed query to the database. Specify the travel aspect you are searching for (e.g., hotel, flight, etc.) and provide well-supported arguments for your query. Only make one focused search attempt at a time.\\n  * `action`: If you choose `action`, you will communicate directly with the user. Your goal is to understand the user's preferences and intent by asking clear, specific questions. Avoid vague or overly general inquiries—focus on detailed aspects of their travel needs.\\n  * `answer`: If you choose answer, you should recommend a specific option to the user by only providing its an option ID from the database in the content field, clearly tied to a particular travel aspect.\\n\\n- Important Notes:\\n  * In each round of your interaction, you should analyze and carefully consider what to do next, and then invocate the `interact_with_env` tool to interact with the environment. You should provide your thought in each step when invocate the tool.\\n  * The total number of rounds that you can interact with the environment is limited. You should smartly balance the number of rounds that you search, take action, or provide answer.\\n  * Typically, you should start by performing a search, then take action to actively uncover the user's preferences or reason to provide an answer. Keep in mind that multiple travel aspects require answers, and while you may answer multiple times, each answer should include only one option ID.\\n  * For each travel aspect, the user may have multiple preferences. What you ask may not directly align with the user's actual preferences, so you must proactively uncover them. Moreover, user preferences are often expressed implicitly, requiring careful interpretation.\\n  * Be bold, creative and smart in your interaction with the environment! Let's begin!\", 'role': 'system'}\n {'content': 'I am planning a trip to Los Angeles from December 15th to December 22nd, staying in an apartment and renting a car for the duration. I also plan to dine at a restaurant in Los Angeles on December 16th.\\nAlso my budget is limited so as long as my preferences are satisfied, I would also like to choose the cheapest option for each.\\n', 'role': 'user'}]",
         "interaction",
         "{'env_name': 'TravelGym', 'ground_truth': \"['A11', 'C7', 'R14']\", 'id': 'apartment:4-284|rental_car:4-56|restaurant:4-158', 'style': 'rule'}",
         "{'index': 2, 'need_tools_kwargs': True, 'split': 'train', 'tools_kwargs': {'interact_with_env': {'create_kwargs': {'env_name': 'TravelGym', 'id': 'apartment:4-284|rental_car:4-56|restaurant:4-158'}}}}"
        ],
        [
         "3",
         "interact_travelgym",
         "[{'content': \"You are an agent that actively interact with an specific environment. The followings are the details of the environment and your action space.\\n\\n- Environment Description: TravelGym is an environment where you interact with both a user and a search database to fulfill a travel plan. Since the user's initial intent may be incomplete, you must proactively elicit preferences, perform searches, and make informed recommendations.\\n\\n- Action Space: You should invocate the function `interact_with_env` to interact with the environment. The action should be one of the following: `search`, `action` or `answer`.\\n\\n- Action Description:\\n  * `search`: If you choose `search`, you must issue a clear and detailed query to the database. Specify the travel aspect you are searching for (e.g., hotel, flight, etc.) and provide well-supported arguments for your query. Only make one focused search attempt at a time.\\n  * `action`: If you choose `action`, you will communicate directly with the user. Your goal is to understand the user's preferences and intent by asking clear, specific questions. Avoid vague or overly general inquiries—focus on detailed aspects of their travel needs.\\n  * `answer`: If you choose answer, you should recommend a specific option to the user by only providing its an option ID from the database in the content field, clearly tied to a particular travel aspect.\\n\\n- Important Notes:\\n  * In each round of your interaction, you should analyze and carefully consider what to do next, and then invocate the `interact_with_env` tool to interact with the environment. You should provide your thought in each step when invocate the tool.\\n  * The total number of rounds that you can interact with the environment is limited. You should smartly balance the number of rounds that you search, take action, or provide answer.\\n  * Typically, you should start by performing a search, then take action to actively uncover the user's preferences or reason to provide an answer. Keep in mind that multiple travel aspects require answers, and while you may answer multiple times, each answer should include only one option ID.\\n  * For each travel aspect, the user may have multiple preferences. What you ask may not directly align with the user's actual preferences, so you must proactively uncover them. Moreover, user preferences are often expressed implicitly, requiring careful interpretation.\\n  * Be bold, creative and smart in your interaction with the environment! Let's begin!\", 'role': 'system'}\n {'content': 'I need a one-way flight from Los Angeles to Sydney on December 10th. In Sydney, I require a hotel and a rental car from December 11th to December 18th.\\nAlso my budget is limited so as long as my preferences are satisfied, I would also like to choose the cheapest option for each.\\n', 'role': 'user'}]",
         "interaction",
         "{'env_name': 'TravelGym', 'ground_truth': \"['F19', 'C3', 'H3']\", 'id': 'flight:4-77|hotel:4-11|rental_car:4-12', 'style': 'rule'}",
         "{'index': 3, 'need_tools_kwargs': True, 'split': 'train', 'tools_kwargs': {'interact_with_env': {'create_kwargs': {'env_name': 'TravelGym', 'id': 'flight:4-77|hotel:4-11|rental_car:4-12'}}}}"
        ],
        [
         "4",
         "interact_travelgym",
         "[{'content': \"You are an agent that actively interact with an specific environment. The followings are the details of the environment and your action space.\\n\\n- Environment Description: TravelGym is an environment where you interact with both a user and a search database to fulfill a travel plan. Since the user's initial intent may be incomplete, you must proactively elicit preferences, perform searches, and make informed recommendations.\\n\\n- Action Space: You should invocate the function `interact_with_env` to interact with the environment. The action should be one of the following: `search`, `action` or `answer`.\\n\\n- Action Description:\\n  * `search`: If you choose `search`, you must issue a clear and detailed query to the database. Specify the travel aspect you are searching for (e.g., hotel, flight, etc.) and provide well-supported arguments for your query. Only make one focused search attempt at a time.\\n  * `action`: If you choose `action`, you will communicate directly with the user. Your goal is to understand the user's preferences and intent by asking clear, specific questions. Avoid vague or overly general inquiries—focus on detailed aspects of their travel needs.\\n  * `answer`: If you choose answer, you should recommend a specific option to the user by only providing its an option ID from the database in the content field, clearly tied to a particular travel aspect.\\n\\n- Important Notes:\\n  * In each round of your interaction, you should analyze and carefully consider what to do next, and then invocate the `interact_with_env` tool to interact with the environment. You should provide your thought in each step when invocate the tool.\\n  * The total number of rounds that you can interact with the environment is limited. You should smartly balance the number of rounds that you search, take action, or provide answer.\\n  * Typically, you should start by performing a search, then take action to actively uncover the user's preferences or reason to provide an answer. Keep in mind that multiple travel aspects require answers, and while you may answer multiple times, each answer should include only one option ID.\\n  * For each travel aspect, the user may have multiple preferences. What you ask may not directly align with the user's actual preferences, so you must proactively uncover them. Moreover, user preferences are often expressed implicitly, requiring careful interpretation.\\n  * Be bold, creative and smart in your interaction with the environment! Let's begin!\", 'role': 'system'}\n {'content': 'I am planning a trip with a one-way flight from Los Angeles to Tokyo on December 10th. Upon arrival in Tokyo, I will stay at a hotel and rent a car from December 11th to December 18th.\\nAlso my budget is limited so as long as my preferences are satisfied, I would also like to choose the cheapest option for each.\\n', 'role': 'user'}]",
         "interaction",
         "{'env_name': 'TravelGym', 'ground_truth': \"['F4', 'C17', 'H10']\", 'id': 'flight:4-257|hotel:4-80|rental_car:4-32', 'style': 'rule'}",
         "{'index': 4, 'need_tools_kwargs': True, 'split': 'train', 'tools_kwargs': {'interact_with_env': {'create_kwargs': {'env_name': 'TravelGym', 'id': 'flight:4-257|hotel:4-80|rental_car:4-32'}}}}"
        ]
       ],
       "shape": {
        "columns": 5,
        "rows": 5
       }
      },
      "text/html": [
       "<div>\n",
       "<style scoped>\n",
       "    .dataframe tbody tr th:only-of-type {\n",
       "        vertical-align: middle;\n",
       "    }\n",
       "\n",
       "    .dataframe tbody tr th {\n",
       "        vertical-align: top;\n",
       "    }\n",
       "\n",
       "    .dataframe thead th {\n",
       "        text-align: right;\n",
       "    }\n",
       "</style>\n",
       "<table border=\"1\" class=\"dataframe\">\n",
       "  <thead>\n",
       "    <tr style=\"text-align: right;\">\n",
       "      <th></th>\n",
       "      <th>data_source</th>\n",
       "      <th>prompt</th>\n",
       "      <th>ability</th>\n",
       "      <th>reward_model</th>\n",
       "      <th>extra_info</th>\n",
       "    </tr>\n",
       "  </thead>\n",
       "  <tbody>\n",
       "    <tr>\n",
       "      <th>0</th>\n",
       "      <td>interact_travelgym</td>\n",
       "      <td>[{'content': 'You are an agent that actively i...</td>\n",
       "      <td>interaction</td>\n",
       "      <td>{'env_name': 'TravelGym', 'ground_truth': '['F...</td>\n",
       "      <td>{'index': 0, 'need_tools_kwargs': True, 'split...</td>\n",
       "    </tr>\n",
       "    <tr>\n",
       "      <th>1</th>\n",
       "      <td>interact_travelgym</td>\n",
       "      <td>[{'content': 'You are an agent that actively i...</td>\n",
       "      <td>interaction</td>\n",
       "      <td>{'env_name': 'TravelGym', 'ground_truth': '['F...</td>\n",
       "      <td>{'index': 1, 'need_tools_kwargs': True, 'split...</td>\n",
       "    </tr>\n",
       "    <tr>\n",
       "      <th>2</th>\n",
       "      <td>interact_travelgym</td>\n",
       "      <td>[{'content': 'You are an agent that actively i...</td>\n",
       "      <td>interaction</td>\n",
       "      <td>{'env_name': 'TravelGym', 'ground_truth': '['A...</td>\n",
       "      <td>{'index': 2, 'need_tools_kwargs': True, 'split...</td>\n",
       "    </tr>\n",
       "    <tr>\n",
       "      <th>3</th>\n",
       "      <td>interact_travelgym</td>\n",
       "      <td>[{'content': 'You are an agent that actively i...</td>\n",
       "      <td>interaction</td>\n",
       "      <td>{'env_name': 'TravelGym', 'ground_truth': '['F...</td>\n",
       "      <td>{'index': 3, 'need_tools_kwargs': True, 'split...</td>\n",
       "    </tr>\n",
       "    <tr>\n",
       "      <th>4</th>\n",
       "      <td>interact_travelgym</td>\n",
       "      <td>[{'content': 'You are an agent that actively i...</td>\n",
       "      <td>interaction</td>\n",
       "      <td>{'env_name': 'TravelGym', 'ground_truth': '['F...</td>\n",
       "      <td>{'index': 4, 'need_tools_kwargs': True, 'split...</td>\n",
       "    </tr>\n",
       "  </tbody>\n",
       "</table>\n",
       "</div>"
      ],
      "text/plain": [
       "          data_source                                             prompt  \\\n",
       "0  interact_travelgym  [{'content': 'You are an agent that actively i...   \n",
       "1  interact_travelgym  [{'content': 'You are an agent that actively i...   \n",
       "2  interact_travelgym  [{'content': 'You are an agent that actively i...   \n",
       "3  interact_travelgym  [{'content': 'You are an agent that actively i...   \n",
       "4  interact_travelgym  [{'content': 'You are an agent that actively i...   \n",
       "\n",
       "       ability                                       reward_model  \\\n",
       "0  interaction  {'env_name': 'TravelGym', 'ground_truth': '['F...   \n",
       "1  interaction  {'env_name': 'TravelGym', 'ground_truth': '['F...   \n",
       "2  interaction  {'env_name': 'TravelGym', 'ground_truth': '['A...   \n",
       "3  interaction  {'env_name': 'TravelGym', 'ground_truth': '['F...   \n",
       "4  interaction  {'env_name': 'TravelGym', 'ground_truth': '['F...   \n",
       "\n",
       "                                          extra_info  \n",
       "0  {'index': 0, 'need_tools_kwargs': True, 'split...  \n",
       "1  {'index': 1, 'need_tools_kwargs': True, 'split...  \n",
       "2  {'index': 2, 'need_tools_kwargs': True, 'split...  \n",
       "3  {'index': 3, 'need_tools_kwargs': True, 'split...  \n",
       "4  {'index': 4, 'need_tools_kwargs': True, 'split...  "
      ]
     },
     "execution_count": 26,
     "metadata": {},
     "output_type": "execute_result"
    }
   ],
   "source": [
    "import pandas as pd\n",
    "\n",
    "df = pd.read_parquet(\"/Users/rishitoshsingh/Documents/projects/applied/UserBench/data/travel444_multiturn/train.parquet\")\n",
    "df.head()"
   ]
  },
  {
   "cell_type": "code",
   "execution_count": 27,
   "id": "051072ad",
   "metadata": {},
   "outputs": [
    {
     "name": "stdout",
     "output_type": "stream",
     "text": [
      "{'content': 'You are an agent that actively interact with an specific '\n",
      "            'environment. The followings are the details of the environment '\n",
      "            'and your action space.\\n'\n",
      "            '\\n'\n",
      "            '- Environment Description: TravelGym is an environment where you '\n",
      "            'interact with both a user and a search database to fulfill a '\n",
      "            \"travel plan. Since the user's initial intent may be incomplete, \"\n",
      "            'you must proactively elicit preferences, perform searches, and '\n",
      "            'make informed recommendations.\\n'\n",
      "            '\\n'\n",
      "            '- Action Space: You should invocate the function '\n",
      "            '`interact_with_env` to interact with the environment. The action '\n",
      "            'should be one of the following: `search`, `action` or `answer`.\\n'\n",
      "            '\\n'\n",
      "            '- Action Description:\\n'\n",
      "            '  * `search`: If you choose `search`, you must issue a clear and '\n",
      "            'detailed query to the database. Specify the travel aspect you are '\n",
      "            'searching for (e.g., hotel, flight, etc.) and provide '\n",
      "            'well-supported arguments for your query. Only make one focused '\n",
      "            'search attempt at a time.\\n'\n",
      "            '  * `action`: If you choose `action`, you will communicate '\n",
      "            \"directly with the user. Your goal is to understand the user's \"\n",
      "            'preferences and intent by asking clear, specific questions. Avoid '\n",
      "            'vague or overly general inquiries—focus on detailed aspects of '\n",
      "            'their travel needs.\\n'\n",
      "            '  * `answer`: If you choose answer, you should recommend a '\n",
      "            'specific option to the user by only providing its an option ID '\n",
      "            'from the database in the content field, clearly tied to a '\n",
      "            'particular travel aspect.\\n'\n",
      "            '\\n'\n",
      "            '- Important Notes:\\n'\n",
      "            '  * In each round of your interaction, you should analyze and '\n",
      "            'carefully consider what to do next, and then invocate the '\n",
      "            '`interact_with_env` tool to interact with the environment. You '\n",
      "            'should provide your thought in each step when invocate the tool.\\n'\n",
      "            '  * The total number of rounds that you can interact with the '\n",
      "            'environment is limited. You should smartly balance the number of '\n",
      "            'rounds that you search, take action, or provide answer.\\n'\n",
      "            '  * Typically, you should start by performing a search, then take '\n",
      "            \"action to actively uncover the user's preferences or reason to \"\n",
      "            'provide an answer. Keep in mind that multiple travel aspects '\n",
      "            'require answers, and while you may answer multiple times, each '\n",
      "            'answer should include only one option ID.\\n'\n",
      "            '  * For each travel aspect, the user may have multiple '\n",
      "            \"preferences. What you ask may not directly align with the user's \"\n",
      "            'actual preferences, so you must proactively uncover them. '\n",
      "            'Moreover, user preferences are often expressed implicitly, '\n",
      "            'requiring careful interpretation.\\n'\n",
      "            '  * Be bold, creative and smart in your interaction with the '\n",
      "            \"environment! Let's begin!\",\n",
      " 'role': 'system'}\n",
      "{'content': 'I am planning a trip to Paris from December 10th to December '\n",
      "            '17th, starting with a one-way flight from New York to Paris on '\n",
      "            'December 10th. I will stay at a hotel in Paris from December 10th '\n",
      "            'to December 17th and dine at a restaurant in Paris on December '\n",
      "            '11th.\\n'\n",
      "            'Also my budget is limited so as long as my preferences are '\n",
      "            'satisfied, I would also like to choose the cheapest option for '\n",
      "            'each.\\n',\n",
      " 'role': 'user'}\n",
      "{'env_name': 'TravelGym',\n",
      " 'ground_truth': \"['F16', 'R7', 'H14']\",\n",
      " 'id': 'flight:4-315|hotel:4-60|restaurant:4-81',\n",
      " 'style': 'rule'}\n",
      "{'index': 0,\n",
      " 'need_tools_kwargs': True,\n",
      " 'split': 'train',\n",
      " 'tools_kwargs': {'interact_with_env': {'create_kwargs': {'env_name': 'TravelGym',\n",
      "                                                          'id': 'flight:4-315|hotel:4-60|restaurant:4-81'}}}}\n"
     ]
    }
   ],
   "source": [
    "i=0\n",
    "pprint.pprint(df.iloc[i][\"prompt\"][0])\n",
    "pprint.pprint(df.iloc[i][\"prompt\"][1])\n",
    "pprint.pprint(df.iloc[i][\"reward_model\"])\n",
    "pprint.pprint(df.iloc[i][\"extra_info\"])"
   ]
  },
  {
   "cell_type": "markdown",
   "id": "eaf70892",
   "metadata": {},
   "source": [
    "# 2222_multiturn"
   ]
  },
  {
   "cell_type": "code",
   "execution_count": 28,
   "id": "010452f1",
   "metadata": {},
   "outputs": [
    {
     "name": "stdout",
     "output_type": "stream",
     "text": [
      "{'content': 'You are an agent that actively interact with an specific '\n",
      "            'environment. The followings are the details of the environment '\n",
      "            'and your action space.\\n'\n",
      "            '\\n'\n",
      "            '- Environment Description: TravelGym is an environment where you '\n",
      "            'interact with both a user and a search database to fulfill a '\n",
      "            \"travel plan. Since the user's initial intent may be incomplete, \"\n",
      "            'you must proactively elicit preferences, perform searches, and '\n",
      "            'make informed recommendations.\\n'\n",
      "            '\\n'\n",
      "            '- Action Space: You should invocate the function '\n",
      "            '`interact_with_env` to interact with the environment. The action '\n",
      "            'should be one of the following: `search`, `action` or `answer`.\\n'\n",
      "            '\\n'\n",
      "            '- Action Description:\\n'\n",
      "            '  * `search`: If you choose `search`, you must issue a clear and '\n",
      "            'detailed query to the database. Specify the travel aspect you are '\n",
      "            'searching for (e.g., hotel, flight, etc.) and provide '\n",
      "            'well-supported arguments for your query. Only make one focused '\n",
      "            'search attempt at a time.\\n'\n",
      "            '  * `action`: If you choose `action`, you will communicate '\n",
      "            \"directly with the user. Your goal is to understand the user's \"\n",
      "            'preferences and intent by asking clear, specific questions. Avoid '\n",
      "            'vague or overly general inquiries—focus on detailed aspects of '\n",
      "            'their travel needs.\\n'\n",
      "            '  * `answer`: If you choose answer, you should recommend a '\n",
      "            'specific option to the user by only providing its an option ID '\n",
      "            'from the database in the content field, clearly tied to a '\n",
      "            'particular travel aspect.\\n'\n",
      "            '\\n'\n",
      "            '- Important Notes:\\n'\n",
      "            '  * In each round of your interaction, you should analyze and '\n",
      "            'carefully consider what to do next, and then invocate the '\n",
      "            '`interact_with_env` tool to interact with the environment. You '\n",
      "            'should provide your thought in each step when invocate the tool.\\n'\n",
      "            '  * The total number of rounds that you can interact with the '\n",
      "            'environment is limited. You should smartly balance the number of '\n",
      "            'rounds that you search, take action, or provide answer.\\n'\n",
      "            '  * Typically, you should start by performing a search, then take '\n",
      "            \"action to actively uncover the user's preferences or reason to \"\n",
      "            'provide an answer. Keep in mind that multiple travel aspects '\n",
      "            'require answers, and while you may answer multiple times, each '\n",
      "            'answer should include only one option ID.\\n'\n",
      "            '  * For each travel aspect, the user may have multiple '\n",
      "            \"preferences. What you ask may not directly align with the user's \"\n",
      "            'actual preferences, so you must proactively uncover them. '\n",
      "            'Moreover, user preferences are often expressed implicitly, '\n",
      "            'requiring careful interpretation.\\n'\n",
      "            '  * Be bold, creative and smart in your interaction with the '\n",
      "            \"environment! Let's begin!\",\n",
      " 'role': 'system'}\n",
      "{'content': 'I will fly one-way from New York to San Francisco on December '\n",
      "            '10th, stay at a hotel and rent a car in San Francisco from '\n",
      "            'December 10th to December 15th, and visit a restaurant in San '\n",
      "            'Francisco on December 12th.\\n'\n",
      "            'Also my budget is limited so as long as my preferences are '\n",
      "            'satisfied, I would also like to choose the cheapest option for '\n",
      "            'each.\\n',\n",
      " 'role': 'user'}\n",
      "{'env_name': 'TravelGym',\n",
      " 'ground_truth': \"['F19', 'C21', 'H6', 'R17']\",\n",
      " 'id': 'flight:2-48|hotel:2-29|rental_car:2-22|restaurant:2-33',\n",
      " 'style': 'rule'}\n",
      "{'index': 0,\n",
      " 'need_tools_kwargs': True,\n",
      " 'split': 'train',\n",
      " 'tools_kwargs': {'interact_with_env': {'create_kwargs': {'env_name': 'TravelGym',\n",
      "                                                          'id': 'flight:2-48|hotel:2-29|rental_car:2-22|restaurant:2-33'}}}}\n"
     ]
    }
   ],
   "source": [
    "import pandas as pd\n",
    "\n",
    "df = pd.read_parquet(\"/Users/rishitoshsingh/Documents/projects/applied/UserBench/data/travel2222_multiturn/train.parquet\")\n",
    "i=0\n",
    "pprint.pprint(df.iloc[i][\"prompt\"][0])\n",
    "pprint.pprint(df.iloc[i][\"prompt\"][1])\n",
    "pprint.pprint(df.iloc[i][\"reward_model\"])\n",
    "pprint.pprint(df.iloc[i][\"extra_info\"])"
   ]
  },
  {
   "cell_type": "code",
   "execution_count": null,
   "id": "42400245",
   "metadata": {},
   "outputs": [],
   "source": []
  }
 ],
 "metadata": {
  "kernelspec": {
   "display_name": "applied",
   "language": "python",
   "name": "python3"
  },
  "language_info": {
   "codemirror_mode": {
    "name": "ipython",
    "version": 3
   },
   "file_extension": ".py",
   "mimetype": "text/x-python",
   "name": "python",
   "nbconvert_exporter": "python",
   "pygments_lexer": "ipython3",
   "version": "3.10.18"
  }
 },
 "nbformat": 4,
 "nbformat_minor": 5
}
